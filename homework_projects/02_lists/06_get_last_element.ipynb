{
  "nbformat": 4,
  "nbformat_minor": 0,
  "metadata": {
    "colab": {
      "provenance": []
    },
    "kernelspec": {
      "name": "python3",
      "display_name": "Python 3"
    },
    "language_info": {
      "name": "python"
    }
  },
  "cells": [
    {
      "cell_type": "markdown",
      "source": [
        "**Problem Statement**\n",
        "Fill out the function get_last_element(lst) which takes in a list lst as a parameter and prints the last element in the list. The list is guaranteed to be non-empty, but there are no guarantees on its length."
      ],
      "metadata": {
        "id": "HswPwPP90ClP"
      }
    },
    {
      "cell_type": "code",
      "source": [
        "def get_last_element(lst):\n",
        "    print(\"Last element:\", lst[-1])\n",
        "\n",
        "########## No need to edit code past this point\n",
        "\n",
        "def main():\n",
        "    num_elements = int(input(\"How many elements in the list? \"))\n",
        "    user_list = []\n",
        "\n",
        "    for i in range(num_elements):\n",
        "        element = input(f\"Enter element {i + 1}: \")\n",
        "        user_list.append(element)\n",
        "\n",
        "    get_last_element(user_list)\n",
        "\n",
        "if __name__ == \"__main__\":\n",
        "    main()\n",
        "\n"
      ],
      "metadata": {
        "colab": {
          "base_uri": "https://localhost:8080/"
        },
        "id": "vdmggyGv0VU1",
        "outputId": "f1d0d813-8229-4f23-9150-a925ff694163"
      },
      "execution_count": 1,
      "outputs": [
        {
          "output_type": "stream",
          "name": "stdout",
          "text": [
            "How many elements in the list? 4\n",
            "Enter element 1: red\n",
            "Enter element 2: orange\n",
            "Enter element 3: pink\n",
            "Enter element 4: blue\n",
            "Last element: blue\n"
          ]
        }
      ]
    },
    {
      "cell_type": "code",
      "source": [
        "def get_last_element(lst):\n",
        "    \"\"\"Prints the last element of the provided list.\"\"\"\n",
        "    # Takes the length of the list and subtracts 1 since lists are zero-indexed\n",
        "    print(lst[len(lst) - 1])\n",
        "\n",
        "    # The line below works too!!\n",
        "    # print(lst[-1])\n",
        "\n",
        "\n",
        "def get_lst():\n",
        "    \"\"\"Prompts the user to enter one element of the list at a time and returns the resulting list.\"\"\"\n",
        "    lst = []\n",
        "    elem = input(\"Please enter an element of the list or press enter to stop. \")\n",
        "    while elem != \"\":\n",
        "        lst.append(elem)\n",
        "        elem = input(\"Please enter an element of the list or press enter to stop. \")\n",
        "    return lst\n",
        "\n",
        "\n",
        "def main():\n",
        "    lst = get_lst()\n",
        "    get_last_element(lst)\n",
        "\n",
        "\n",
        "# This provided line is required at the end of the Python file to call the main() function.\n",
        "if __name__ == '__main__':\n",
        "    main()\n"
      ],
      "metadata": {
        "colab": {
          "base_uri": "https://localhost:8080/"
        },
        "id": "_D1gfZbz1V_j",
        "outputId": "db6ecb19-bb6a-4336-c020-c931ead4a495"
      },
      "execution_count": null,
      "outputs": [
        {
          "name": "stdout",
          "output_type": "stream",
          "text": [
            "Please enter an element of the list or press enter to stop. 4\n",
            "Please enter an element of the list or press enter to stop. Anum\n",
            "Please enter an element of the list or press enter to stop. ather\n",
            "Please enter an element of the list or press enter to stop. anu\n",
            "Please enter an element of the list or press enter to stop. noor\n",
            "Please enter an element of the list or press enter to stop. hi\n"
          ]
        }
      ]
    }
  ]
}