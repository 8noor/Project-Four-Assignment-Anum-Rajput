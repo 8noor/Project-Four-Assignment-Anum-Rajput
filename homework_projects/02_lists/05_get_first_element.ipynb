{
  "nbformat": 4,
  "nbformat_minor": 0,
  "metadata": {
    "colab": {
      "provenance": []
    },
    "kernelspec": {
      "name": "python3",
      "display_name": "Python 3"
    },
    "language_info": {
      "name": "python"
    }
  },
  "cells": [
    {
      "cell_type": "markdown",
      "source": [
        "**Problem Statement**\n",
        "Fill out the function get_first_element(lst) which takes in a list lst as a parameter and prints the first element in the list. The list is guaranteed to be non-empty. We've written some code for you which prompts the user to input the list one element at a time."
      ],
      "metadata": {
        "id": "AkanVpQZxWnR"
      }
    },
    {
      "cell_type": "code",
      "source": [
        "def get_first_element(lst):\n",
        "    print(\"First element:\", lst[0])\n",
        "\n",
        "########## No need to edit code past this point\n",
        "\n",
        "def main():\n",
        "    num_elements = int(input(\"How many elements in the list? \"))\n",
        "    user_list = []\n",
        "\n",
        "    for i in range(num_elements):\n",
        "        element = input(f\"Enter element {i + 1}: \")\n",
        "        user_list.append(element)\n",
        "\n",
        "    get_first_element(user_list)\n",
        "\n",
        "if __name__ == \"__main__\":\n",
        "    main()\n"
      ],
      "metadata": {
        "id": "TGVSKeB3xcaw"
      },
      "execution_count": null,
      "outputs": []
    },
    {
      "cell_type": "code",
      "source": [
        "\n",
        "def get_first_element(lst):\n",
        "    \"\"\"\n",
        "    Prints the first element of a provided list.\n",
        "    \"\"\"\n",
        "\n",
        "    print(lst[0])\n",
        "\n",
        "# There is no need to edit code beyond this point\n",
        "\n",
        "def get_lst():\n",
        "    \"\"\"\n",
        "    Prompts the user to enter one element of the list at a time and returns the resulting list.\n",
        "    \"\"\"\n",
        "    lst = []\n",
        "    elem: str = input(\"Please enter an element of the list or press enter to stop. \")\n",
        "    while elem != \"\":\n",
        "        lst.append(elem)\n",
        "        elem = input(\"Please enter an element of the list or press enter to stop. \")\n",
        "    return lst\n",
        "\n",
        "def main():\n",
        "    lst = get_lst()\n",
        "    get_first_element(lst)\n",
        "\n",
        "\n",
        "if __name__ == '__main__':\n",
        "    main()\n",
        "\n"
      ],
      "metadata": {
        "colab": {
          "base_uri": "https://localhost:8080/"
        },
        "id": "5zdJPWHXxqff",
        "outputId": "74d090e1-0351-42c5-cb47-b459874db5f6"
      },
      "execution_count": null,
      "outputs": [
        {
          "name": "stdout",
          "output_type": "stream",
          "text": [
            "Please enter an element of the list or press enter to stop. 4\n",
            "Please enter an element of the list or press enter to stop. 2\n",
            "Please enter an element of the list or press enter to stop. 1\n",
            "Please enter an element of the list or press enter to stop. 4\n",
            "Please enter an element of the list or press enter to stop. 6\n"
          ]
        }
      ]
    }
  ]
}