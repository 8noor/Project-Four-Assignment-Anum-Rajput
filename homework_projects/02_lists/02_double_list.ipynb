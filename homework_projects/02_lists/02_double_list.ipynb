{
  "nbformat": 4,
  "nbformat_minor": 0,
  "metadata": {
    "colab": {
      "provenance": []
    },
    "kernelspec": {
      "name": "python3",
      "display_name": "Python 3"
    },
    "language_info": {
      "name": "python"
    }
  },
  "cells": [
    {
      "cell_type": "code",
      "execution_count": null,
      "metadata": {
        "id": "LbLITdQJRGtL"
      },
      "outputs": [],
      "source": []
    },
    {
      "cell_type": "markdown",
      "source": [
        "**Problem Statement**\n",
        "Write a program that doubles each element in a list of numbers. For example, if you start with this list:\n",
        "\n",
        "numbers = [1, 2, 3, 4]\n",
        "\n",
        "You should end with this list:\n",
        "\n",
        "numbers = [2, 4, 6, 8]"
      ],
      "metadata": {
        "id": "hr5gS7yWRLoh"
      }
    },
    {
      "cell_type": "code",
      "source": [
        "def double_numbers(numbers: list[int]) -> list[int]:\n",
        "    \"\"\"\n",
        "    Takes a list of numbers and returns a new list with each number doubled.\n",
        "    \"\"\"\n",
        "    doubled = [num * 2 for num in numbers]\n",
        "    return doubled\n",
        "\n",
        "\n",
        "def main():\n",
        "    numbers = [1, 2, 3, 4]  # Original list\n",
        "    result = double_numbers(numbers)  # Doubled list\n",
        "    print(result)  # Output: [2, 4, 6, 8]\n",
        "\n",
        "\n",
        "if __name__ == '__main__':\n",
        "    main()\n"
      ],
      "metadata": {
        "colab": {
          "base_uri": "https://localhost:8080/"
        },
        "id": "lZlTjTdjRVE4",
        "outputId": "a6d7ebde-6bd7-4586-fa11-f9745e90521b"
      },
      "execution_count": 1,
      "outputs": [
        {
          "output_type": "stream",
          "name": "stdout",
          "text": [
            "[2, 4, 6, 8]\n"
          ]
        }
      ]
    },
    {
      "cell_type": "code",
      "source": [
        "def main():\n",
        "    numbers: list[int] = [1, 2, 3, 4]  # Creates a list of numbers\n",
        "\n",
        "    for i in range(len(numbers)):  # Loop through the indices of the list\n",
        "        elem_at_index = numbers[i]  # Get the element at index i in the numbers list\n",
        "        numbers[i] = elem_at_index * 2  # Set the element at index i to be equal to the previous element times 2\n",
        "\n",
        "    print(numbers)  # This should print the doubled list\n",
        "\n",
        "\n",
        "# There is no need to edit code beyond this point\n",
        "\n",
        "if __name__ == '__main__':\n",
        "    main()"
      ],
      "metadata": {
        "colab": {
          "base_uri": "https://localhost:8080/"
        },
        "id": "wAHCt1aWR5p7",
        "outputId": "c6d61288-71e9-4c97-fa1f-ce9397f6a302"
      },
      "execution_count": 3,
      "outputs": [
        {
          "output_type": "stream",
          "name": "stdout",
          "text": [
            "[2, 4, 6, 8]\n"
          ]
        }
      ]
    }
  ]
}