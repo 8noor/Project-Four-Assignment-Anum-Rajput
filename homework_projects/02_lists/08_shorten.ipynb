{
  "nbformat": 4,
  "nbformat_minor": 0,
  "metadata": {
    "colab": {
      "provenance": []
    },
    "kernelspec": {
      "name": "python3",
      "display_name": "Python 3"
    },
    "language_info": {
      "name": "python"
    }
  },
  "cells": [
    {
      "cell_type": "markdown",
      "source": [
        "**Problem Statement**\n",
        "Fill out the function shorten(lst) which removes elements from the end of lst, which is a list, and prints each item it removes until lst is MAX_LENGTH items long. If lst is already shorter than MAX_LENGTH you should leave it unchanged. We've written a main() function for you which gets a list and passes it into your function once you run the program. For the autograder to pass you will need MAX_LENGTH to be 3, but feel free to change it around to test your program."
      ],
      "metadata": {
        "id": "qbJHl6xw6SW0"
      }
    },
    {
      "cell_type": "code",
      "source": [
        "MAX_LENGTH = 3\n",
        "\n",
        "def shorten(lst):\n",
        "    \"\"\"Removes and prints elements from the end of the list until its length is MAX_LENGTH.\"\"\"\n",
        "    while len(lst) > MAX_LENGTH:\n",
        "        removed = lst.pop()\n",
        "        print(\"Removed:\", removed)\n",
        "\n",
        "########## No need to edit code past this point\n",
        "\n",
        "def get_lst():\n",
        "    \"\"\"Prompts the user to enter one element of the list at a time and returns the resulting list.\"\"\"\n",
        "    lst = []\n",
        "    elem = input(\"Please enter an element of the list or press enter to stop. \")\n",
        "    while elem != \"\":\n",
        "        lst.append(elem)\n",
        "        elem = input(\"Please enter an element of the list or press enter to stop. \")\n",
        "    return lst\n",
        "\n",
        "def main():\n",
        "    lst = get_lst()\n",
        "    shorten(lst)\n",
        "    print(\"Final list:\", lst)\n",
        "\n",
        "if __name__ == '__main__':\n",
        "    main()\n"
      ],
      "metadata": {
        "colab": {
          "base_uri": "https://localhost:8080/"
        },
        "id": "3Vgynnq06mQq",
        "outputId": "2924a6c2-01f6-4641-a117-28a90af48f4c"
      },
      "execution_count": 4,
      "outputs": [
        {
          "output_type": "stream",
          "name": "stdout",
          "text": [
            "Please enter an element of the list or press enter to stop. apple\n",
            "Please enter an element of the list or press enter to stop. banana\n",
            "Please enter an element of the list or press enter to stop. orange\n",
            "Please enter an element of the list or press enter to stop. data\n",
            "Please enter an element of the list or press enter to stop. elderberry\n",
            "Please enter an element of the list or press enter to stop. \n",
            "Removed: elderberry\n",
            "Removed: data\n",
            "Final list: ['apple', 'banana', 'orange']\n"
          ]
        }
      ]
    }
  ]
}