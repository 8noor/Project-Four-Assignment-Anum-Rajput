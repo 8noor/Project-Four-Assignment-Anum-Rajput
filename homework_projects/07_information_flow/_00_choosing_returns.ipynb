{
  "nbformat": 4,
  "nbformat_minor": 0,
  "metadata": {
    "colab": {
      "provenance": []
    },
    "kernelspec": {
      "name": "python3",
      "display_name": "Python 3"
    },
    "language_info": {
      "name": "python"
    }
  },
  "cells": [
    {
      "cell_type": "markdown",
      "source": [
        "**Problem Statement**\n",
        "There are times where we want to return different things from a function based on some condition. To practice this idea, imagine that we want to check if someone is an adult. We might check their age and return different things depending on how old they are!\n",
        "\n",
        "We've provided you with the ADULT_AGE variable which has the age a person is legally classified as an adult (in the United States). Fill out the is_adult(age) function, which returns True if the function takes an age that is greater than or equal to ADULT_AGE. If the function takes an age less than ADULT_AGE, return False instead.\n",
        "\n",
        "Here are two sample runs of the program, one for each return option (user input in bold italics):\n",
        "\n",
        "(Entered age is an adult age)\n",
        "\n",
        "How old is this person?: 35\n",
        "\n",
        "True\n",
        "\n",
        "(Entered age is not an adult age)\n",
        "\n",
        "How old is this person?: 7\n",
        "\n",
        "False\n",
        "\n",
        "**Starter Code**"
      ],
      "metadata": {
        "id": "v3aVKozlUlDf"
      }
    },
    {
      "cell_type": "code",
      "source": [
        "ADULT_AGE : int = 18 # U.S. age\n",
        "\n",
        "def is_adult(age: int):\n",
        "    if age >= ADULT_AGE:\n",
        "        return True\n",
        "\n",
        "    return False\n",
        "\n",
        "########## No need to edit code beyond this point :) ##########\n",
        "\n",
        "def main():\n",
        "    age : str = int(input(\"How old is this person?: \"))\n",
        "    print(is_adult(age))\n",
        "\n",
        "\n",
        "if __name__ == \"__main__\":\n",
        "    main()"
      ],
      "metadata": {
        "colab": {
          "base_uri": "https://localhost:8080/"
        },
        "id": "hm_FqXT3Uyy1",
        "outputId": "f067fb20-ef9e-48b8-ceb8-ef3b33a8fd06"
      },
      "execution_count": 1,
      "outputs": [
        {
          "output_type": "stream",
          "name": "stdout",
          "text": [
            "How old is this person?: 24\n",
            "True\n"
          ]
        }
      ]
    }
  ]
}