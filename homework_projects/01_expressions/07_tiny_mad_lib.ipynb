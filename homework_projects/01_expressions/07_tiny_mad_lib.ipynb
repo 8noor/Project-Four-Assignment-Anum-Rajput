{
  "nbformat": 4,
  "nbformat_minor": 0,
  "metadata": {
    "colab": {
      "provenance": []
    },
    "kernelspec": {
      "name": "python3",
      "display_name": "Python 3"
    },
    "language_info": {
      "name": "python"
    }
  },
  "cells": [
    {
      "cell_type": "code",
      "execution_count": null,
      "metadata": {
        "id": "Xq7Mvb5BGA03"
      },
      "outputs": [],
      "source": []
    },
    {
      "cell_type": "markdown",
      "source": [
        "**Problem Statement**\n",
        "Write a program which prompts the user for an adjective, then a noun, then a verb, and then prints a fun sentence with those words!\n",
        "\n",
        "Mad Libs is a word game where players are prompted for one word at a time, and the words are eventually filled into the blanks of a word template to make an entertaining story! We've provided you with the beginning of a sentence (the SENTENCE_START constant) which will end in a user-inputted adjective, noun, and then verb.\n",
        "\n",
        "Here's a sample run (user input is in bold italics):\n",
        "\n",
        "Please type an adjective and press enter. tiny\n",
        "\n",
        "Please type a noun and press enter. plant\n",
        "\n",
        "Please type a verb and press enter. fly\n",
        "\n",
        "Code in Place is fun. I learned to program and used Python to make my tiny plant fly!\n",
        "\n",
        "**✅ Starter Code: Mad Libs Game**"
      ],
      "metadata": {
        "id": "enaEEO0mGE-k"
      }
    },
    {
      "cell_type": "code",
      "source": [
        "# Constant sentence start\n",
        "SENTENCE_START: str = \"Code in Place is fun. I learned to program and used Python to make my\"\n",
        "\n",
        "def main():\n",
        "    # Ask the user for an adjective, noun, and verb\n",
        "    adjective: str = input(\"Please type an adjective and press enter. \")\n",
        "    noun: str = input(\"Please type a noun and press enter. \")\n",
        "    verb: str = input(\"Please type a verb and press enter. \")\n",
        "\n",
        "    # Create and print the fun sentence!\n",
        "    print(SENTENCE_START, adjective, noun, verb + \"!\")\n",
        "\n",
        "# Required to run the program\n",
        "if __name__ == '__main__':\n",
        "    main()\n"
      ],
      "metadata": {
        "colab": {
          "base_uri": "https://localhost:8080/"
        },
        "id": "FGJxAj4xPf3P",
        "outputId": "00604485-c3a5-4df7-9302-4f89225b1d9d"
      },
      "execution_count": null,
      "outputs": [
        {
          "name": "stdout",
          "output_type": "stream",
          "text": [
            "Please type an adjective and press enter. math\n",
            "Please type a noun and press enter. english\n"
          ]
        }
      ]
    }
  ]
}