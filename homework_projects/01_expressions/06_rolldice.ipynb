{
  "nbformat": 4,
  "nbformat_minor": 0,
  "metadata": {
    "colab": {
      "provenance": []
    },
    "kernelspec": {
      "name": "python3",
      "display_name": "Python 3"
    },
    "language_info": {
      "name": "python"
    }
  },
  "cells": [
    {
      "cell_type": "markdown",
      "source": [
        "**Problem Statement**\n",
        "Simulate rolling two dice, and prints results of each roll as well as the total.\n",
        "\n",
        "**✅ Dice Roll Simulation Code **"
      ],
      "metadata": {
        "id": "3rbN-Vig8vf_"
      }
    },
    {
      "cell_type": "code",
      "source": [
        "import random  # To use random number generation\n",
        "\n",
        "def main():\n",
        "    # Simulate rolling two six-sided dice\n",
        "    die1 = random.randint(1, 6)\n",
        "    die2 = random.randint(1, 6)\n",
        "\n",
        "    # Calculate total\n",
        "    total = die1 + die2\n",
        "\n",
        "    # Print results\n",
        "    print(\"You rolled a\", die1, \"and a\", die2)\n",
        "    print(\"The total is:\", total)\n",
        "\n",
        "# Required to run the main function\n",
        "if __name__ == '__main__':\n",
        "    main()\n",
        "\n"
      ],
      "metadata": {
        "colab": {
          "base_uri": "https://localhost:8080/"
        },
        "id": "A8awDeSH86I2",
        "outputId": "a1f59931-a552-46c7-c12e-53145b37bb52"
      },
      "execution_count": 5,
      "outputs": [
        {
          "output_type": "stream",
          "name": "stdout",
          "text": [
            "You rolled a 5 and a 4\n",
            "The total is: 9\n"
          ]
        }
      ]
    },
    {
      "cell_type": "markdown",
      "source": [
        "**🎲 Example**"
      ],
      "metadata": {
        "id": "KadBkgFR_p0E"
      }
    },
    {
      "cell_type": "code",
      "source": [
        "\"\"\"\n",
        "Simulate rolling two dice, and prints results of each\n",
        "roll as well as the total.\n",
        "\"\"\"\n",
        "# Import the random library which lets us simulate random things like dice!\n",
        "import random\n",
        "\n",
        "# Number of sides on each die to roll\n",
        "NUM_SIDES: int = 6\n",
        "\n",
        "def main():\n",
        "    # Setting a seed is useful for debugging (uncomment the line below to do so!)\n",
        "    # random.seed(1)\n",
        "\n",
        "    # Roll die\n",
        "    die1: int = random.randint(1, NUM_SIDES)\n",
        "    die2: int = random.randint(1, NUM_SIDES)\n",
        "\n",
        "    # Get their total\n",
        "    total: int = die1 + die2\n",
        "\n",
        "    # Print out the results\n",
        "    print(\"Dice have\", NUM_SIDES, \"sides each.\")\n",
        "    print(\"First die:\", die1)\n",
        "    print(\"Second die:\", die2)\n",
        "    print(\"Total of two dice:\", total)\n",
        "\n",
        "\n",
        "# This provided line is required at the end of a Python file\n",
        "# to call the main() function.\n",
        "if __name__ == '__main__':\n",
        "    main()\n"
      ],
      "metadata": {
        "colab": {
          "base_uri": "https://localhost:8080/"
        },
        "id": "Mj0hxASQ9ro_",
        "outputId": "9902fee7-b423-4201-bec6-ddb18d770095"
      },
      "execution_count": 6,
      "outputs": [
        {
          "output_type": "stream",
          "name": "stdout",
          "text": [
            "Dice have 6 sides each.\n",
            "First die: 5\n",
            "Second die: 3\n",
            "Total of two dice: 8\n"
          ]
        }
      ]
    }
  ]
}