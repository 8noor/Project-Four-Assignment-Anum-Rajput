{
  "nbformat": 4,
  "nbformat_minor": 0,
  "metadata": {
    "colab": {
      "provenance": []
    },
    "kernelspec": {
      "name": "python3",
      "display_name": "Python 3"
    },
    "language_info": {
      "name": "python"
    }
  },
  "cells": [
    {
      "cell_type": "markdown",
      "source": [
        "**Problem Statement🎈**\n",
        "Converts feet to inches. Feet is an American unit of measurement. There are 12 inches per foot. Foot is the singular, and feet is the plural."
      ],
      "metadata": {
        "id": "1mef1j6ZuHYO"
      }
    },
    {
      "cell_type": "code",
      "source": [
        "\n",
        "def main ():\n",
        "  print(\"I am pakistani\")\n",
        "  if __name__== '____main___':\n",
        "    main()\n"
      ],
      "metadata": {
        "id": "MekATM4dwnGy"
      },
      "execution_count": 4,
      "outputs": []
    },
    {
      "cell_type": "markdown",
      "source": [
        "**🔹 Constant Define Karna:**"
      ],
      "metadata": {
        "id": "kKCdq8RJyBKF"
      }
    },
    {
      "cell_type": "code",
      "source": [
        "INCHES_IN_FOOT: int = 12\n"
      ],
      "metadata": {
        "id": "RhnEEVN5yE57"
      },
      "execution_count": null,
      "outputs": []
    },
    {
      "cell_type": "markdown",
      "source": [
        "Yahan ek constant banaya gaya hai jiska naam hai **INCHES_IN_FOOT,** aur uska value hai **12.**\n",
        "\n",
        "➡️ Iska matlab:\n",
        "\n",
        "**1 foot = 12 inches**\n",
        "\n",
        "int likhne ka matlab hai ke ye ek integer (***poora number***) hai. Python mein constants usually **uppercase letters **mein likhe jaate hain.\n",
        "\n",
        "**🔹 Main Function:**\n",
        "\n",
        "# def main():\n",
        "\n",
        "Yahan ek function banaya gaya hai jiska naam hai main(). Ye program ka main entry point hai.\n",
        "\n",
        "**🔹 User se Input Lena:**\n"
      ],
      "metadata": {
        "id": "BobgvS7KyQcz"
      }
    },
    {
      "cell_type": "code",
      "source": [
        "    feet: float = float(input(\"Enter number of feet: \"))\n"
      ],
      "metadata": {
        "id": "cuO36hpRymdq"
      },
      "execution_count": null,
      "outputs": []
    },
    {
      "cell_type": "markdown",
      "source": [
        "***input***(...) user se input leta hai (wo input string hoti hai).\n",
        "\n",
        "***float***(...) use number (float = point wala number) mein convert karta hai. Jaise 5.5 feet, 6.0 feet, etc.\n",
        "\n",
        "***feet*** variable mein ye value store hoti hai.\n",
        "\n",
        "**🔹 Conversion Karna:**\n",
        "    inches: float = feet * INCHES_IN_FOOT\n",
        "feet × 12 = inches\n",
        "\n",
        "Agar user 5.5 feet dale, to:\n",
        "\n",
        "5.5 * 12 = 66 inches"
      ],
      "metadata": {
        "id": "xk9kmGsszWna"
      }
    },
    {
      "cell_type": "code",
      "source": [
        "    print(\"That is\", inches, \"inches!\")\n",
        "if __name__ == '__main__':\n",
        "    main()\n"
      ],
      "metadata": {
        "id": "jorJ7AbR0VOQ"
      },
      "execution_count": null,
      "outputs": []
    },
    {
      "cell_type": "markdown",
      "source": [
        "Ye line ensure karti hai ke jab ye file run ho, tab main() function chale."
      ],
      "metadata": {
        "id": "tR58K9tB0dYl"
      }
    },
    {
      "cell_type": "code",
      "source": [
        "\n",
        "\"\"\"\n",
        "An example program with constants\n",
        "\"\"\"\n",
        "\n",
        "INCHES_IN_FOOT: int = 12  # Conversion factor. There are 12 inches for 1 foot.\n",
        "\n",
        "def main():\n",
        "    feet: float = float(input(\"Enter number of feet: \"))  # Get the number of feet, make sure to cast it to a float!\n",
        "    inches: float = feet * INCHES_IN_FOOT  # Perform the conversion\n",
        "    print(\"That is\", inches, \"inches!\")\n",
        "\n",
        "\n",
        "# This provided line is required at the end of a Python file\n",
        "# to call the main() function.\n",
        "if __name__ == '__main__':\n",
        "    main()"
      ],
      "metadata": {
        "colab": {
          "base_uri": "https://localhost:8080/"
        },
        "id": "xY3VQ7sY0iKl",
        "outputId": "23eca1a4-891b-4340-d0dc-6223ee1645b9"
      },
      "execution_count": 5,
      "outputs": [
        {
          "output_type": "stream",
          "name": "stdout",
          "text": [
            "Enter number of feet: 88\n",
            "That is 1056.0 inches!\n"
          ]
        }
      ]
    }
  ]
}