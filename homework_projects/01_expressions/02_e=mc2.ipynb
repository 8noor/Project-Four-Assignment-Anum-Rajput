{
  "nbformat": 4,
  "nbformat_minor": 0,
  "metadata": {
    "colab": {
      "provenance": []
    },
    "kernelspec": {
      "name": "python3",
      "display_name": "Python 3"
    },
    "language_info": {
      "name": "python"
    }
  },
  "cells": [
    {
      "cell_type": "markdown",
      "source": [
        "**Problem Statement**\n",
        "Write a program that continually reads in mass from the user and then outputs the equivalent energy using Einstein's mass-energy equivalence formula (E stands for energy, m stands for mass, and C is the speed of light:\n",
        "\n",
        "E = m * c**2\n",
        "\n",
        "Almost 100 years ago, Albert Einstein famously discovered that mass and energy are interchangeable and are related by the above equation. You should ask the user for mass (m) in kilograms and use a constant value for the speed of light -- C = 299792458 m/s.\n",
        "\n",
        "Here's a sample run of the program (user input is in bold italics):\n",
        "\n",
        "Enter kilos of mass: 100\n",
        "\n",
        "e = m * C^2...\n",
        "\n",
        "m = 100.0 kg\n",
        "\n",
        "C = 299792458 m/s\n",
        "\n",
        "8.987551787368176e+18 joules of energy!"
      ],
      "metadata": {
        "id": "8yrMhaVKob1D"
      }
    },
    {
      "cell_type": "code",
      "source": [
        "# Constant speed of light (in meters per second)\n",
        "C = 299_792_458\n",
        "\n",
        "def main():\n",
        "    while True:\n",
        "        try:\n",
        "            # Take user input\n",
        "            user_input = input(\"Enter kilos of mass (or type 'q' to quit): \")\n",
        "\n",
        "            if user_input.lower() == 'q':\n",
        "                print(\"Goodbye!\")\n",
        "                break\n",
        "\n",
        "            # Convert input to float\n",
        "            m = float(user_input)\n",
        "\n",
        "            # Calculate energy\n",
        "            E = m * C**2\n",
        "\n",
        "            # Display result\n",
        "            print(\"\\ne = m * C^2...\")\n",
        "            print(f\"m = {m} kg\")\n",
        "            print(f\"C = {C} m/s\")\n",
        "            print(f\"{E} joules of energy!\\n\")\n",
        "\n",
        "        except ValueError:\n",
        "            print(\"Please enter a valid number or 'q' to quit.\\n\")\n",
        "\n",
        "# Run the program\n",
        "if __name__ == '__main__':\n",
        "    main()\n"
      ],
      "metadata": {
        "colab": {
          "base_uri": "https://localhost:8080/"
        },
        "id": "cH4IqkPcpOp4",
        "outputId": "e3b01f7c-438b-4d94-817c-ac5656012e12"
      },
      "execution_count": null,
      "outputs": [
        {
          "output_type": "stream",
          "name": "stdout",
          "text": [
            "Enter kilos of mass (or type 'q' to quit): 45\n",
            "\n",
            "e = m * C^2...\n",
            "m = 45.0 kg\n",
            "C = 299792458 m/s\n",
            "4.044398304315679e+18 joules of energy!\n",
            "\n",
            "Enter kilos of mass (or type 'q' to quit): 67\n",
            "\n",
            "e = m * C^2...\n",
            "m = 67.0 kg\n",
            "C = 299792458 m/s\n",
            "6.021659697536678e+18 joules of energy!\n",
            "\n"
          ]
        }
      ]
    }
  ]
}