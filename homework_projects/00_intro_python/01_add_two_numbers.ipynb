{
 "cells": [
  {
   "cell_type": "code",
   "execution_count": null,
   "metadata": {
    "id": "cMRySsHaoE6E"
   },
   "outputs": [],
   "source": []
  },
  {
   "cell_type": "markdown",
   "metadata": {
    "id": "Zl8yTlKOoXf7"
   },
   "source": [
    "**Problem Statement**\n",
    "Write a Python program that takes two integer inputs from the user and calculates their sum. The program should perform the following tasks:\n",
    "\n",
    "1. Prompt the user to enter the first number.\n",
    "\n",
    "2. Read the input and convert it to an integer.\n",
    "\n",
    "3. Prompt the user to enter the second number.\n",
    "\n",
    "4. Read the input and convert it to an integer.\n",
    "\n",
    "5. Calculate the sum of the two numbers.\n",
    "\n",
    "6. Print the total sum with an appropriate message.\n",
    "\n",
    "The provided solution demonstrates a working implementation of this problem, where the main() function guides the user through the process of entering two numbers and displays their sum.\n",
    "\n",
    "**Starter Code**"
   ]
  },
  {
   "cell_type": "code",
   "execution_count": 1,
   "metadata": {
    "colab": {
     "base_uri": "https://localhost:8080/"
    },
    "executionInfo": {
     "elapsed": 10904,
     "status": "ok",
     "timestamp": 1742811388410,
     "user": {
      "displayName": "Noor Anum",
      "userId": "13745994529384865754"
     },
     "user_tz": -300
    },
    "id": "XsnUqpjHpu6s",
    "outputId": "2d664509-3606-4495-92e7-7954200f8f22"
   },
   "outputs": [
    {
     "name": "stdout",
     "output_type": "stream",
     "text": [
      "This program adds two numbers.\n",
      "Enter first number: 1\n",
      "Enter second number: 4\n",
      "The total is 5.\n"
     ]
    }
   ],
   "source": [
    "\"\"\"\n",
    "Program: add2numbers\n",
    "--------------------\n",
    "Another python program to get some practice with\n",
    "variables.  This program asks the user for two\n",
    "integers and prints their sum.\n",
    "\"\"\"\n",
    "\n",
    "\n",
    "def main():\n",
    "    print(\"This program adds two numbers.\")\n",
    "    num1 : str = input(\"Enter first number: \")\n",
    "    num1 : int = int(num1)\n",
    "    num2  : str = input(\"Enter second number: \")\n",
    "    num2 : int = int(num2)\n",
    "    total : int = num1 + num2\n",
    "    print(\"The total is \" + str(total) + \".\")\n",
    "\n",
    "\n",
    "# This provided line is required at the end of\n",
    "# Python file to call the main() function.\n",
    "if __name__ == '__main__':\n",
    "    main()"
   ]
  }
 ],
 "metadata": {
  "colab": {
   "authorship_tag": "ABX9TyMFrSiZLZI/SPrzXj78Iz9L",
   "provenance": []
  },
  "kernelspec": {
   "display_name": "Python 3",
   "name": "python3"
  },
  "language_info": {
   "name": "python"
  }
 },
 "nbformat": 4,
 "nbformat_minor": 0
}
